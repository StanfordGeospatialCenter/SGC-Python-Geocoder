{
  "nbformat": 4,
  "nbformat_minor": 0,
  "metadata": {
    "kernelspec": {
      "display_name": "Python 3",
      "language": "python",
      "name": "python3"
    },
    "language_info": {
      "codemirror_mode": {
        "name": "ipython",
        "version": 3
      },
      "file_extension": ".py",
      "mimetype": "text/x-python",
      "name": "python",
      "nbconvert_exporter": "python",
      "pygments_lexer": "ipython3",
      "version": "3.7.3"
    },
    "colab": {
      "name": "Copy of CSV to Geocodes-Testing.ipynb",
      "provenance": [],
      "toc_visible": true,
      "include_colab_link": true
    }
  },
  "cells": [
    {
      "cell_type": "markdown",
      "metadata": {
        "id": "view-in-github",
        "colab_type": "text"
      },
      "source": [
        "<a href=\"https://colab.research.google.com/github/StanfordGeospatialCenter/SGC-Python-Geocoder/blob/working/CSV_to_Geocodes_Testing.ipynb\" target=\"_parent\"><img src=\"https://colab.research.google.com/assets/colab-badge.svg\" alt=\"Open In Colab\"/></a>"
      ]
    },
    {
      "cell_type": "markdown",
      "metadata": {
        "id": "-7c3mRkBtkW1",
        "colab_type": "text"
      },
      "source": [
        "## Imports & Job Parameters\n",
        "\n",
        "These get adjusted based upon how many records you want per chunk, desired CRS, etc..."
      ]
    },
    {
      "cell_type": "code",
      "metadata": {
        "id": "xG25JvnztkW4",
        "colab_type": "code",
        "colab": {}
      },
      "source": [
        "import requests\n",
        "import json\n",
        "import csv\n",
        "import socket\n",
        "import pprint\n",
        "from datetime import datetime\n",
        "from itertools import islice\n",
        "\n",
        "#Input csv file\n",
        "inCSV = open(\"testAddresses.csv\")\n",
        "# output spatial reference id \n",
        "outsrid = '4326'\n",
        "# Total number of records to submit\n",
        "sliceSize = 20\n",
        "# Number of records to submit per GET request\n",
        "chunkSize = 5"
      ],
      "execution_count": 0,
      "outputs": []
    },
    {
      "cell_type": "markdown",
      "metadata": {
        "id": "Uiys9wzhtkW9",
        "colab_type": "text"
      },
      "source": [
        "## Token request"
      ]
    },
    {
      "cell_type": "code",
      "metadata": {
        "id": "5fpttBZ_tkW-",
        "colab_type": "code",
        "colab": {
          "base_uri": "https://localhost:8080/",
          "height": 34
        },
        "outputId": "d00a6790-57e3-46c2-b843-786cdcef854a"
      },
      "source": [
        "## api-endpoint for requesting a token from locator.stanford.edu\n",
        "\n",
        "tokenURL = \"https://locator.stanford.edu/arcgis/tokens/generateToken\"\n",
        "payload = \"username=XXXX&password=XXXX&client=requestip&expiration=86400&f=json\"\n",
        "headers = {\n",
        "    'Content-Type': \"application/x-www-form-urlencoded\",\n",
        "    'User-Agent': \"PostmanRuntime/7.13.0\",\n",
        "    'Accept': \"*/*\",\n",
        "    'Cache-Control': \"no-cache\",\n",
        "    'Postman-Token': \"2686259f-3e03-44d3-920e-abd43ae0c908,b4f42197-a2ae-4ef3-9dca-c0f5932bb21b\",\n",
        "    'Host': \"locator.stanford.edu\",\n",
        "    'accept-encoding': \"gzip, deflate\",\n",
        "    'content-length': \"81\",\n",
        "    'Connection': \"keep-alive\",\n",
        "    'cache-control': \"no-cache\"\n",
        "    }\n",
        "# request token from locator.stanford.edu/arcgis/tokens using REST POST\n",
        "mytoken = requests.post( tokenURL, data=payload, headers=headers).json()['token']\n",
        "print(mytoken)"
      ],
      "execution_count": 35,
      "outputs": [
        {
          "output_type": "stream",
          "text": [
            "MBDKV6_HesOnq0eO2yMjM4hOkHxF8cFOJyrh6d1MveGS1a3untpH9Rrt7EgVJejP\n"
          ],
          "name": "stdout"
        }
      ]
    },
    {
      "cell_type": "markdown",
      "metadata": {
        "id": "oVNZlJKltkXB",
        "colab_type": "text"
      },
      "source": [
        "## Parameters for the geocoding REST POST request"
      ]
    },
    {
      "cell_type": "code",
      "metadata": {
        "id": "ZCQWDShgtkXC",
        "colab_type": "code",
        "colab": {}
      },
      "source": [
        "# api-endpoint for geocoding US Street Addresses with locator.stanford.edu\n",
        "\n",
        "url = 'https://locator.stanford.edu/arcgis/rest/services/geocode/USA_StreetAddress/GeocodeServer/geocodeAddresses'\n",
        "\n",
        "#output format\n",
        "format = 'json'\n",
        "\n",
        "# header\n",
        "header = {'Content-Type': 'application/x-www-form-urlencoded'}\n",
        "\n",
        "# params data to be sent to api \n",
        "params ={'outSR':outsrid,'f':format,'token':mytoken}"
      ],
      "execution_count": 0,
      "outputs": []
    },
    {
      "cell_type": "markdown",
      "metadata": {
        "id": "kbrcfPjJtkXG",
        "colab_type": "text"
      },
      "source": [
        "## Make a new N record CSV from the oneMillionAddresses.csv then chunk & submit geocodes to locator.stanford.edu, then write response to new csv"
      ]
    },
    {
      "cell_type": "code",
      "metadata": {
        "id": "bpXdHo6OtkXH",
        "colab_type": "code",
        "outputId": "02e3db5e-4ecb-496b-c7bb-ab694d3103a4",
        "colab": {
          "base_uri": "https://localhost:8080/",
          "height": 139
        }
      },
      "source": [
        "#Job startTime\n",
        "jobStartTime = datetime.now()\n",
        "print(jobStartTime)\n",
        "\n",
        "slice = islice(inCSV,sliceSize)\n",
        "reader = csv.reader(slice)\n",
        "\n",
        "with open('slicedAddresses.csv', 'w',newline='') as outCSV:\n",
        "    writer = csv.writer(outCSV)\n",
        "    for row in reader:\n",
        "        writer.writerow(row)# Path to the sliced csv file\n",
        "csvPath = 'slicedAddresses.csv'\n",
        "\n",
        "# The records number to start the next chunk at\n",
        "chunkMarker = 0\n",
        "\n",
        "# Open a file to write the resulting geocodes to\n",
        "outCSV = open('outCSV.csv','w',newline='')\n",
        "\n",
        "#Write the headers to the opened outCSV.csv \n",
        "geocodeWriter = csv.DictWriter(outCSV,fieldnames=('LangCode', 'Score', 'Side', 'Status', 'StAddr', 'Subregion', 'Distance', 'AddNumTo', 'StDir', 'Region', 'StType', 'Match_addr', 'Postal', 'AddNum', 'StPreType', 'StName', 'City', 'Country', 'X', 'Addr_type', 'AddNumFrom', 'StPreDir', 'ResultID', 'Y'))\n",
        "geocodeWriter.writeheader()\n",
        "\n",
        "#Open the input csv and count the rows minus the header for a number of data rows\n",
        "with open(csvPath) as f:\n",
        "    numRows = (len(list(f))-1)\n",
        "    \n",
        "# calculate the number of chunks based upon the numRows and chunkSize\n",
        "    for i in range(int((numRows-(numRows%chunkSize))/chunkSize)+1):\n",
        "#Print the start time for the chunk\n",
        "        #chunkStartTime = datetime.now()\n",
        "        #print(\"Chunk #\"+ str(i) + \" start time:\"+str(chunkStartTime))\n",
        "#Open the sliced csv\n",
        "        with open(csvPath) as csvFile:\n",
        "#Create a csv DictReader from the csvFile\n",
        "            csvReader = csv.DictReader(csvFile)\n",
        "#Create a list from the DictReader\n",
        "            csvRows = list(csvReader)\n",
        "#Nest each record under an attribute oblect, iterating through the csvRows\n",
        "            attribute = [{'attributes': row }for row in csvRows[chunkMarker:chunkMarker+chunkSize]]\n",
        "#Dump the result to json\n",
        "            addresses = json.dumps({'records':attribute}) \n",
        "            #print(\"Output\",addresses)\n",
        "#Submit the chunk for geocoding\n",
        "            r = requests.post(url, headers = header, data = { 'addresses':addresses,'outSR':outsrid,'f':format,'token':mytoken})\n",
        "            parsedJson = json.loads(r.text)\n",
        "            print(\"Results\",r.text)\n",
        "#Get the current chunk length to evaluate\n",
        "            #print(\"this chunk length: \"str(len(list(parsedJson['locations']))))\n",
        "#iterate over the result, writing each attribute record to a new csv row\n",
        "#Counter for iterating over the result records, based upon the chunkSize\n",
        "            for c in range(chunkSize):\n",
        "                try:\n",
        "                \n",
        "#Open the outCSV again in append mode\n",
        "                    outCSV = open('outCSV.csv','a',newline='')\n",
        "    #Create a DictWriter to write the rows\n",
        "                    geocodeWriter = csv.DictWriter(outCSV,fieldnames=('LangCode', 'Score', 'Side', 'Status', 'StAddr', 'Subregion', 'Distance', 'AddNumTo', 'StDir', 'Region', 'StType', 'Match_addr', 'Postal', 'AddNum', 'StPreType', 'StName', 'City', 'Country', 'X', 'Addr_type', 'AddNumFrom', 'StPreDir', 'ResultID', 'Y'))\n",
        "    #Parse the current records for element [record] \n",
        "                    #print is_json(\"{}\")\n",
        "                    jsonRows = parsedJson['locations'][c]['attributes']                \n",
        "    #Write the values to a row\n",
        "                    geocodeWriter.writerow(jsonRows)\n",
        "                except IndexError:\n",
        "#                     print(\"End of file\")\n",
        "                    break\n",
        "#Print the end time for the chunk and the processing time\n",
        "            #chunkEndTime = datetime.now()\n",
        "            #print(\"Chunk #\"+str(i)+\" end time: \"+str(chunkEndTime))\n",
        "            #print(\"Chunk #\"+str(i)+\" total time: \"+str(chunkEndTime - chunkStartTime))\n",
        "#Calculate the next chunk's starting point \n",
        "            chunkMarker = chunkMarker+chunkSize\n",
        "            print(str(chunkMarker)+\" records geocoded\",end='\\r')\n",
        "outCSV.close()\n",
        "\n",
        "#Reporting & logging\n",
        "#Get some data\n",
        "hostname = socket.gethostname()    \n",
        "IPAddr = socket.gethostbyname(hostname)    \n",
        "jobEndTime = datetime.now()\n",
        "jobTotalTime = jobEndTime-jobStartTime\n",
        "jobTotalSeconds = jobTotalTime.total_seconds()\n",
        "recordsPerSecond = (sliceSize/jobTotalSeconds)\n",
        "millionRecordTime = (((1000000/sliceSize)*jobTotalSeconds)/3600)\n",
        "#Log to a csv\n",
        "with open('geocodeLogs.csv', 'a', newline='') as csvfile:\n",
        "    fieldnames = ['hostname','IPAddr','jobStartTime','jobEndTime', 'jobTotalTime', 'sliceSize','chunkSize','recordsPerMinute','recordsPerHour','millionRecordTime']\n",
        "    writer = csv.DictWriter(csvfile, fieldnames=fieldnames)\n",
        "    #writer.writeheader()\n",
        "    writer.writerow({'hostname':hostname,'IPAddr':IPAddr,'jobStartTime':jobStartTime,'jobEndTime':jobEndTime, 'jobTotalTime':jobTotalTime, 'sliceSize':sliceSize,'chunkSize':chunkSize,'recordsPerMinute':recordsPerSecond*60,'recordsPerHour':recordsPerSecond*3600,'millionRecordTime':millionRecordTime})\n",
        "    print(str(chunkMarker)+\" records geocoded and finished in: \"+str(jobTotalSeconds)+ \" seconds\")"
      ],
      "execution_count": 38,
      "outputs": [
        {
          "output_type": "stream",
          "text": [
            "2020-01-30 20:08:16.870912\n",
            "Results {\"spatialReference\":{\"wkid\":4326,\"latestWkid\":4326},\"locations\":[{\"address\":\"\",\"location\":{\"x\":\"NaN\",\"y\":\"NaN\"},\"score\":0,\"attributes\":{\"ResultID\":-1,\"Status\":\"U\",\"Score\":0,\"Match_addr\":\"\",\"Addr_type\":\"\",\"AddNum\":\"\",\"AddNumFrom\":\"\",\"AddNumTo\":\"\",\"Side\":\"\",\"StPreDir\":\"\",\"StPreType\":\"\",\"StName\":\"\",\"StType\":\"\",\"StDir\":\"\",\"StAddr\":\"\",\"City\":\"\",\"Subregion\":\"\",\"Region\":\"\",\"Postal\":\"\",\"Country\":\"\",\"LangCode\":\"\",\"Distance\":0,\"X\":0,\"Y\":0}},{\"address\":\"\",\"location\":{\"x\":\"NaN\",\"y\":\"NaN\"},\"score\":0,\"attributes\":{\"ResultID\":-1,\"Status\":\"U\",\"Score\":0,\"Match_addr\":\"\",\"Addr_type\":\"\",\"AddNum\":\"\",\"AddNumFrom\":\"\",\"AddNumTo\":\"\",\"Side\":\"\",\"StPreDir\":\"\",\"StPreType\":\"\",\"StName\":\"\",\"StType\":\"\",\"StDir\":\"\",\"StAddr\":\"\",\"City\":\"\",\"Subregion\":\"\",\"Region\":\"\",\"Postal\":\"\",\"Country\":\"\",\"LangCode\":\"\",\"Distance\":0,\"X\":0,\"Y\":0}},{\"address\":\"\",\"location\":{\"x\":\"NaN\",\"y\":\"NaN\"},\"score\":0,\"attributes\":{\"ResultID\":-1,\"Status\":\"U\",\"Score\":0,\"Match_addr\":\"\",\"Addr_type\":\"\",\"AddNum\":\"\",\"AddNumFrom\":\"\",\"AddNumTo\":\"\",\"Side\":\"\",\"StPreDir\":\"\",\"StPreType\":\"\",\"StName\":\"\",\"StType\":\"\",\"StDir\":\"\",\"StAddr\":\"\",\"City\":\"\",\"Subregion\":\"\",\"Region\":\"\",\"Postal\":\"\",\"Country\":\"\",\"LangCode\":\"\",\"Distance\":0,\"X\":0,\"Y\":0}},{\"address\":\"140 Legion Ave, New Haven, Connecticut, 06519\",\"location\":{\"x\":-72.940336579999951,\"y\":41.306077588000051},\"score\":100,\"attributes\":{\"ResultID\":-1,\"Status\":\"M\",\"Score\":100,\"Match_addr\":\"140 Legion Ave, New Haven, Connecticut, 06519\",\"Addr_type\":\"StreetAddress\",\"AddNum\":\"140\",\"AddNumFrom\":\"152\",\"AddNumTo\":\"92\",\"Side\":\"R\",\"StPreDir\":\"\",\"StPreType\":\"\",\"StName\":\"Legion\",\"StType\":\"Ave\",\"StDir\":\"\",\"StAddr\":\"140 Legion Ave\",\"City\":\"New Haven\",\"Subregion\":\"New Haven\",\"Region\":\"Connecticut\",\"Postal\":\"06519\",\"Country\":\"USA\",\"LangCode\":\"ENG\",\"Distance\":0,\"X\":-72.940337999999997,\"Y\":41.306077999999999}},{\"address\":\"45 Nash St, New Haven, Connecticut, 06511\",\"location\":{\"x\":-72.909530010999958,\"y\":41.317193312000029},\"score\":100,\"attributes\":{\"ResultID\":-1,\"Status\":\"M\",\"Score\":100,\"Match_addr\":\"45 Nash St, New Haven, Connecticut, 06511\",\"Addr_type\":\"StreetAddress\",\"AddNum\":\"45\",\"AddNumFrom\":\"45\",\"AddNumTo\":\"123\",\"Side\":\"R\",\"StPreDir\":\"\",\"StPreType\":\"\",\"StName\":\"Nash\",\"StType\":\"St\",\"StDir\":\"\",\"StAddr\":\"45 Nash St\",\"City\":\"New Haven\",\"Subregion\":\"New Haven\",\"Region\":\"Connecticut\",\"Postal\":\"06511\",\"Country\":\"USA\",\"LangCode\":\"ENG\",\"Distance\":0,\"X\":-72.909531000000001,\"Y\":41.317193000000003}}]}\n",
            "Results {\"spatialReference\":{\"wkid\":4326,\"latestWkid\":4326},\"locations\":[{\"address\":\"\",\"location\":{\"x\":\"NaN\",\"y\":\"NaN\"},\"score\":0,\"attributes\":{\"ResultID\":-1,\"Status\":\"U\",\"Score\":0,\"Match_addr\":\"\",\"Addr_type\":\"\",\"AddNum\":\"\",\"AddNumFrom\":\"\",\"AddNumTo\":\"\",\"Side\":\"\",\"StPreDir\":\"\",\"StPreType\":\"\",\"StName\":\"\",\"StType\":\"\",\"StDir\":\"\",\"StAddr\":\"\",\"City\":\"\",\"Subregion\":\"\",\"Region\":\"\",\"Postal\":\"\",\"Country\":\"\",\"LangCode\":\"\",\"Distance\":0,\"X\":0,\"Y\":0}},{\"address\":\"\",\"location\":{\"x\":\"NaN\",\"y\":\"NaN\"},\"score\":0,\"attributes\":{\"ResultID\":-1,\"Status\":\"U\",\"Score\":0,\"Match_addr\":\"\",\"Addr_type\":\"\",\"AddNum\":\"\",\"AddNumFrom\":\"\",\"AddNumTo\":\"\",\"Side\":\"\",\"StPreDir\":\"\",\"StPreType\":\"\",\"StName\":\"\",\"StType\":\"\",\"StDir\":\"\",\"StAddr\":\"\",\"City\":\"\",\"Subregion\":\"\",\"Region\":\"\",\"Postal\":\"\",\"Country\":\"\",\"LangCode\":\"\",\"Distance\":0,\"X\":0,\"Y\":0}},{\"address\":\"\",\"location\":{\"x\":\"NaN\",\"y\":\"NaN\"},\"score\":0,\"attributes\":{\"ResultID\":-1,\"Status\":\"U\",\"Score\":0,\"Match_addr\":\"\",\"Addr_type\":\"\",\"AddNum\":\"\",\"AddNumFrom\":\"\",\"AddNumTo\":\"\",\"Side\":\"\",\"StPreDir\":\"\",\"StPreType\":\"\",\"StName\":\"\",\"StType\":\"\",\"StDir\":\"\",\"StAddr\":\"\",\"City\":\"\",\"Subregion\":\"\",\"Region\":\"\",\"Postal\":\"\",\"Country\":\"\",\"LangCode\":\"\",\"Distance\":0,\"X\":0,\"Y\":0}},{\"address\":\"\",\"location\":{\"x\":\"NaN\",\"y\":\"NaN\"},\"score\":0,\"attributes\":{\"ResultID\":-1,\"Status\":\"U\",\"Score\":0,\"Match_addr\":\"\",\"Addr_type\":\"\",\"AddNum\":\"\",\"AddNumFrom\":\"\",\"AddNumTo\":\"\",\"Side\":\"\",\"StPreDir\":\"\",\"StPreType\":\"\",\"StName\":\"\",\"StType\":\"\",\"StDir\":\"\",\"StAddr\":\"\",\"City\":\"\",\"Subregion\":\"\",\"Region\":\"\",\"Postal\":\"\",\"Country\":\"\",\"LangCode\":\"\",\"Distance\":0,\"X\":0,\"Y\":0}},{\"address\":\"\",\"location\":{\"x\":\"NaN\",\"y\":\"NaN\"},\"score\":0,\"attributes\":{\"ResultID\":-1,\"Status\":\"U\",\"Score\":0,\"Match_addr\":\"\",\"Addr_type\":\"\",\"AddNum\":\"\",\"AddNumFrom\":\"\",\"AddNumTo\":\"\",\"Side\":\"\",\"StPreDir\":\"\",\"StPreType\":\"\",\"StName\":\"\",\"StType\":\"\",\"StDir\":\"\",\"StAddr\":\"\",\"City\":\"\",\"Subregion\":\"\",\"Region\":\"\",\"Postal\":\"\",\"Country\":\"\",\"LangCode\":\"\",\"Distance\":0,\"X\":0,\"Y\":0}}]}\n",
            "Results {\"spatialReference\":{\"wkid\":4326,\"latestWkid\":4326},\"locations\":[{\"address\":\"192 Dixwell Ave, New Haven, Connecticut, 06511\",\"location\":{\"x\":-72.933773943999938,\"y\":41.318266129000051},\"score\":100,\"attributes\":{\"ResultID\":-1,\"Status\":\"M\",\"Score\":100,\"Match_addr\":\"192 Dixwell Ave, New Haven, Connecticut, 06511\",\"Addr_type\":\"StreetAddress\",\"AddNum\":\"192\",\"AddNumFrom\":\"166\",\"AddNumTo\":\"200\",\"Side\":\"L\",\"StPreDir\":\"\",\"StPreType\":\"\",\"StName\":\"Dixwell\",\"StType\":\"Ave\",\"StDir\":\"\",\"StAddr\":\"192 Dixwell Ave\",\"City\":\"New Haven\",\"Subregion\":\"New Haven\",\"Region\":\"Connecticut\",\"Postal\":\"06511\",\"Country\":\"USA\",\"LangCode\":\"ENG\",\"Distance\":0,\"X\":-72.933774999999997,\"Y\":41.318266000000001}},{\"address\":\"580 Dixwell Ave, New Haven, Connecticut, 06511\",\"location\":{\"x\":-72.935245160999955,\"y\":41.328892942000039},\"score\":100,\"attributes\":{\"ResultID\":-1,\"Status\":\"M\",\"Score\":100,\"Match_addr\":\"580 Dixwell Ave, New Haven, Connecticut, 06511\",\"Addr_type\":\"StreetAddress\",\"AddNum\":\"580\",\"AddNumFrom\":\"564\",\"AddNumTo\":\"598\",\"Side\":\"L\",\"StPreDir\":\"\",\"StPreType\":\"\",\"StName\":\"Dixwell\",\"StType\":\"Ave\",\"StDir\":\"\",\"StAddr\":\"580 Dixwell Ave\",\"City\":\"New Haven\",\"Subregion\":\"New Haven\",\"Region\":\"Connecticut\",\"Postal\":\"06511\",\"Country\":\"USA\",\"LangCode\":\"ENG\",\"Distance\":0,\"X\":-72.935246000000006,\"Y\":41.328893000000001}},{\"address\":\"21 Wooster Pl, New Haven, Connecticut, 06511\",\"location\":{\"x\":-72.916981047999968,\"y\":41.304832407000049},\"score\":100,\"attributes\":{\"ResultID\":-1,\"Status\":\"M\",\"Score\":100,\"Match_addr\":\"21 Wooster Pl, New Haven, Connecticut, 06511\",\"Addr_type\":\"StreetAddress\",\"AddNum\":\"21\",\"AddNumFrom\":\"15\",\"AddNumTo\":\"99\",\"Side\":\"R\",\"StPreDir\":\"\",\"StPreType\":\"\",\"StName\":\"Wooster\",\"StType\":\"Pl\",\"StDir\":\"\",\"StAddr\":\"21 Wooster Pl\",\"City\":\"New Haven\",\"Subregion\":\"New Haven\",\"Region\":\"Connecticut\",\"Postal\":\"06511\",\"Country\":\"USA\",\"LangCode\":\"ENG\",\"Distance\":0,\"X\":-72.916982000000004,\"Y\":41.304831999999998}},{\"address\":\"103 Hallock Ave, New Haven, Connecticut, 06519\",\"location\":{\"x\":-72.929272881999964,\"y\":41.285571298000036},\"score\":100,\"attributes\":{\"ResultID\":-1,\"Status\":\"M\",\"Score\":100,\"Match_addr\":\"103 Hallock Ave, New Haven, Connecticut, 06519\",\"Addr_type\":\"StreetAddress\",\"AddNum\":\"103\",\"AddNumFrom\":\"101\",\"AddNumTo\":\"133\",\"Side\":\"R\",\"StPreDir\":\"\",\"StPreType\":\"\",\"StName\":\"Hallock\",\"StType\":\"Ave\",\"StDir\":\"\",\"StAddr\":\"103 Hallock Ave\",\"City\":\"New Haven\",\"Subregion\":\"New Haven\",\"Region\":\"Connecticut\",\"Postal\":\"06519\",\"Country\":\"USA\",\"LangCode\":\"ENG\",\"Distance\":0,\"X\":-72.929274000000007,\"Y\":41.285570999999997}},{\"address\":\"150 Kimberly Ave, New Haven, Connecticut, 06519\",\"location\":{\"x\":-72.934830011999964,\"y\":41.288446700000065},\"score\":100,\"attributes\":{\"ResultID\":-1,\"Status\":\"M\",\"Score\":100,\"Match_addr\":\"150 Kimberly Ave, New Haven, Connecticut, 06519\",\"Addr_type\":\"StreetAddress\",\"AddNum\":\"150\",\"AddNumFrom\":\"152\",\"AddNumTo\":\"92\",\"Side\":\"R\",\"StPreDir\":\"\",\"StPreType\":\"\",\"StName\":\"Kimberly\",\"StType\":\"Ave\",\"StDir\":\"\",\"StAddr\":\"150 Kimberly Ave\",\"City\":\"New Haven\",\"Subregion\":\"New Haven\",\"Region\":\"Connecticut\",\"Postal\":\"06519\",\"Country\":\"USA\",\"LangCode\":\"ENG\",\"Distance\":0,\"X\":-72.934831000000003,\"Y\":41.288446999999998}}]}\n",
            "Results {\"spatialReference\":{\"wkid\":4326,\"latestWkid\":4326},\"locations\":[{\"address\":\"100 Jewell St, New Haven, Connecticut, 06515\",\"location\":{\"x\":-72.953786603999959,\"y\":41.325640385000042},\"score\":90.159999999999997,\"attributes\":{\"ResultID\":-1,\"Status\":\"M\",\"Score\":90.159999999999997,\"Match_addr\":\"100 Jewell St, New Haven, Connecticut, 06515\",\"Addr_type\":\"StreetAddress\",\"AddNum\":\"100\",\"AddNumFrom\":\"68\",\"AddNumTo\":\"198\",\"Side\":\"L\",\"StPreDir\":\"\",\"StPreType\":\"\",\"StName\":\"Jewell\",\"StType\":\"St\",\"StDir\":\"\",\"StAddr\":\"100 Jewell St\",\"City\":\"New Haven\",\"Subregion\":\"New Haven\",\"Region\":\"Connecticut\",\"Postal\":\"06515\",\"Country\":\"USA\",\"LangCode\":\"ENG\",\"Distance\":0,\"X\":-72.953788000000003,\"Y\":41.32564}},{\"address\":\"200 Wilmot Rd, New Haven, Connecticut, 06515\",\"location\":{\"x\":-72.958037944999944,\"y\":41.344382043000053},\"score\":100,\"attributes\":{\"ResultID\":-1,\"Status\":\"M\",\"Score\":100,\"Match_addr\":\"200 Wilmot Rd, New Haven, Connecticut, 06515\",\"Addr_type\":\"StreetAddress\",\"AddNum\":\"200\",\"AddNumFrom\":\"166\",\"AddNumTo\":\"236\",\"Side\":\"L\",\"StPreDir\":\"\",\"StPreType\":\"\",\"StName\":\"Wilmot\",\"StType\":\"Rd\",\"StDir\":\"\",\"StAddr\":\"200 Wilmot Rd\",\"City\":\"New Haven\",\"Subregion\":\"New Haven\",\"Region\":\"Connecticut\",\"Postal\":\"06515\",\"Country\":\"USA\",\"LangCode\":\"ENG\",\"Distance\":0,\"X\":-72.958038999999999,\"Y\":41.344382000000003}},{\"address\":\"1481 Quinnipiac Ave, New Haven, Connecticut, 06513\",\"location\":{\"x\":-72.870647967999957,\"y\":41.326059518000079},\"score\":100,\"attributes\":{\"ResultID\":-1,\"Status\":\"M\",\"Score\":100,\"Match_addr\":\"1481 Quinnipiac Ave, New Haven, Connecticut, 06513\",\"Addr_type\":\"StreetAddress\",\"AddNum\":\"1481\",\"AddNumFrom\":\"1451\",\"AddNumTo\":\"1535\",\"Side\":\"R\",\"StPreDir\":\"\",\"StPreType\":\"\",\"StName\":\"Quinnipiac\",\"StType\":\"Ave\",\"StDir\":\"\",\"StAddr\":\"1481 Quinnipiac Ave\",\"City\":\"New Haven\",\"Subregion\":\"New Haven\",\"Region\":\"Connecticut\",\"Postal\":\"06513\",\"Country\":\"USA\",\"LangCode\":\"ENG\",\"Distance\":0,\"X\":-72.870649,\"Y\":41.326059999999998}},{\"address\":\"170 Derby Ave, New Haven, Connecticut, 06511\",\"location\":{\"x\":-72.951997803999973,\"y\":41.31022402800005},\"score\":100,\"attributes\":{\"ResultID\":-1,\"Status\":\"M\",\"Score\":100,\"Match_addr\":\"170 Derby Ave, New Haven, Connecticut, 06511\",\"Addr_type\":\"StreetAddress\",\"AddNum\":\"170\",\"AddNumFrom\":\"170\",\"AddNumTo\":\"152\",\"Side\":\"R\",\"StPreDir\":\"\",\"StPreType\":\"\",\"StName\":\"Derby\",\"StType\":\"Ave\",\"StDir\":\"\",\"StAddr\":\"170 Derby Ave\",\"City\":\"New Haven\",\"Subregion\":\"New Haven\",\"Region\":\"Connecticut\",\"Postal\":\"06511\",\"Country\":\"USA\",\"LangCode\":\"ENG\",\"Distance\":0,\"X\":-72.951999000000001,\"Y\":41.310223999999998}}]}\n",
            "20 records geocoded and finished in: 4.940052 seconds\n"
          ],
          "name": "stdout"
        }
      ]
    },
    {
      "cell_type": "code",
      "metadata": {
        "id": "xrGSqUmltkXK",
        "colab_type": "code",
        "colab": {}
      },
      "source": [
        ""
      ],
      "execution_count": 0,
      "outputs": []
    },
    {
      "cell_type": "code",
      "metadata": {
        "id": "hsZGRtV8tkXN",
        "colab_type": "code",
        "colab": {}
      },
      "source": [
        ""
      ],
      "execution_count": 0,
      "outputs": []
    }
  ]
}
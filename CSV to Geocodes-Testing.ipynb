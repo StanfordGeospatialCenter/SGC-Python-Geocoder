{
 "cells": [
  {
   "cell_type": "markdown",
   "metadata": {},
   "source": [
    "## Imports & Job Parameters\n",
    "\n",
    "These get adjusted based upon how many records you want per chunk, desired CRS, etc..."
   ]
  },
  {
   "cell_type": "code",
   "execution_count": null,
   "metadata": {},
   "outputs": [],
   "source": [
    "import requests\n",
    "import json\n",
    "import csv\n",
    "import socket\n",
    "from datetime import datetime\n",
    "from itertools import islice\n",
    "\n",
    "#Input csv file\n",
    "inCSV = open(\"testAddresses.csv\")\n",
    "# output spatial reference id \n",
    "outsrid = '4326'\n",
    "# Total number of records to submit\n",
    "sliceSize = 20\n",
    "# Number of records to submit per GET request\n",
    "chunkSize = 5"
   ]
  },
  {
   "cell_type": "markdown",
   "metadata": {},
   "source": [
    "## Token request"
   ]
  },
  {
   "cell_type": "code",
   "execution_count": null,
   "metadata": {},
   "outputs": [],
   "source": [
    "# api-endpoint for requesting a token from locator.stanford.edu\n",
    "\n",
    "tokenURL = \"https://locator.stanford.edu/arcgis/tokens/generateToken\"\n",
    "payload = \"username=win%5C<your SUNetID>&password=<your password>%40&client=requestip&expiration=86400&f=json\"\n",
    "headers = {\n",
    "    'Content-Type': \"application/x-www-form-urlencoded\",\n",
    "    'User-Agent': \"PostmanRuntime/7.13.0\",\n",
    "    'Accept': \"*/*\",\n",
    "    'Cache-Control': \"no-cache\",\n",
    "    'Postman-Token': \"2686259f-3e03-44d3-920e-abd43ae0c908,b4f42197-a2ae-4ef3-9dca-c0f5932bb21b\",\n",
    "    'Host': \"locator.stanford.edu\",\n",
    "    'accept-encoding': \"gzip, deflate\",\n",
    "    'content-length': \"81\",\n",
    "    'Connection': \"keep-alive\",\n",
    "    'cache-control': \"no-cache\"\n",
    "    }\n",
    "# request token from locator.stanford.edu/arcgis/tokens using REST POST\n",
    "mytoken = requests.post( tokenURL, data=payload, headers=headers).json()['token']"
   ]
  },
  {
   "cell_type": "markdown",
   "metadata": {},
   "source": [
    "## Parameters for the geocoding REST POST request"
   ]
  },
  {
   "cell_type": "code",
   "execution_count": null,
   "metadata": {},
   "outputs": [],
   "source": [
    "# api-endpoint for geocoding US Street Addresses with locator.stanford.edu\n",
    "\n",
    "url = 'https://locator.stanford.edu/arcgis/rest/services/geocode/USA_StreetAddress/GeocodeServer/geocodeAddresses'\n",
    "\n",
    "#output format\n",
    "format = 'json'\n",
    "\n",
    "# header\n",
    "header = {'Content-Type': 'application/x-www-form-urlencoded'}\n",
    "\n",
    "# params data to be sent to api \n",
    "params ={'outSR':outsrid,'f':format,'token':mytoken}"
   ]
  },
  {
   "cell_type": "markdown",
   "metadata": {},
   "source": [
    "## Make a new N record CSV from the oneMillionAddresses.csv then chunk & submit geocodes to locator.stanford.edu, then write response to new csv"
   ]
  },
  {
   "cell_type": "code",
   "execution_count": null,
   "metadata": {},
   "outputs": [],
   "source": [
    "#Job startTime\n",
    "jobStartTime = datetime.now()\n",
    "print(jobStartTime)\n",
    "\n",
    "slice = islice(inCSV,sliceSize)\n",
    "reader = csv.reader(slice)\n",
    "\n",
    "with open('slicedAddresses.csv', 'w',newline='') as outCSV:\n",
    "    writer = csv.writer(outCSV)\n",
    "    for row in reader:\n",
    "        writer.writerow(row)# Path to the sliced csv file\n",
    "csvPath = 'slicedAddresses.csv'\n",
    "\n",
    "# The records number to start the next chunk at\n",
    "chunkMarker = 0\n",
    "\n",
    "# Open a file to write the resulting geocodes to\n",
    "outCSV = open('outCSV.csv','w',newline='')\n",
    "\n",
    "#Write the headers to the opened outCSV.csv \n",
    "geocodeWriter = csv.DictWriter(outCSV,fieldnames=('LangCode', 'Score', 'Side', 'Status', 'StAddr', 'Subregion', 'Distance', 'AddNumTo', 'StDir', 'Region', 'StType', 'Match_addr', 'Postal', 'AddNum', 'StPreType', 'StName', 'City', 'Country', 'X', 'Addr_type', 'AddNumFrom', 'StPreDir', 'ResultID', 'Y'))\n",
    "geocodeWriter.writeheader()\n",
    "\n",
    "#Open the input csv and count the rows minus the header for a number of data rows\n",
    "with open(csvPath) as f:\n",
    "    numRows = (len(list(f))-1)\n",
    "    \n",
    "# calculate the number of chunks based upon the numRows and chunkSize\n",
    "    for i in range(int((numRows-(numRows%chunkSize))/chunkSize)+1):\n",
    "#Print the start time for the chunk\n",
    "        #chunkStartTime = datetime.now()\n",
    "        #print(\"Chunk #\"+ str(i) + \" start time:\"+str(chunkStartTime))\n",
    "#Open the sliced csv\n",
    "        with open(csvPath) as csvFile:\n",
    "#Create a csv DictReader from the csvFile\n",
    "            csvReader = csv.DictReader(csvFile)\n",
    "#Create a list from the DictReader\n",
    "            csvRows = list(csvReader)\n",
    "#Nest each record under an attribute oblect, iterating through the csvRows\n",
    "            attribute = [{'attributes': row }for row in csvRows[chunkMarker:chunkMarker+chunkSize]]\n",
    "#Dump the result to json\n",
    "            addresses = json.dumps({'records':attribute}) \n",
    "            #print(\"Output\",addresses)\n",
    "#Submit the chunk for geocoding\n",
    "            r = requests.post(url, headers = header, data = { 'addresses':addresses,'outSR':outsrid,'f':format,'token':mytoken})\n",
    "            parsedJson = json.loads(r.text)\n",
    "            #print(\"Results\",r.text)\n",
    "#Get the current chunk length to evaluate\n",
    "            #print(\"this chunk length: \"str(len(list(parsedJson['locations']))))\n",
    "#iterate over the result, writing each attribute record to a new csv row\n",
    "#Counter for iterating over the result records, based upon the chunkSize\n",
    "            for c in range(chunkSize):\n",
    "                try:\n",
    "                \n",
    "#Open the outCSV again in append mode\n",
    "                    outCSV = open('outCSV.csv','a',newline='')\n",
    "    #Create a DictWriter to write the rows\n",
    "                    geocodeWriter = csv.DictWriter(outCSV,fieldnames=('LangCode', 'Score', 'Side', 'Status', 'StAddr', 'Subregion', 'Distance', 'AddNumTo', 'StDir', 'Region', 'StType', 'Match_addr', 'Postal', 'AddNum', 'StPreType', 'StName', 'City', 'Country', 'X', 'Addr_type', 'AddNumFrom', 'StPreDir', 'ResultID', 'Y'))\n",
    "    #Parse the current records for element [record] \n",
    "                    #print is_json(\"{}\")\n",
    "                    jsonRows = parsedJson['locations'][c]['attributes']                \n",
    "    #Write the values to a row\n",
    "                    geocodeWriter.writerow(jsonRows)\n",
    "                except IndexError:\n",
    "#                     print(\"End of file\")\n",
    "                    break\n",
    "#Print the end time for the chunk and the processing time\n",
    "            #chunkEndTime = datetime.now()\n",
    "            #print(\"Chunk #\"+str(i)+\" end time: \"+str(chunkEndTime))\n",
    "            #print(\"Chunk #\"+str(i)+\" total time: \"+str(chunkEndTime - chunkStartTime))\n",
    "#Calculate the next chunk's starting point \n",
    "            chunkMarker = chunkMarker+chunkSize\n",
    "            print(str(chunkMarker)+\" records geocoded\",end='\\r')\n",
    "outCSV.close()\n",
    "\n",
    "#Reporting & logging\n",
    "#Get some data\n",
    "hostname = socket.gethostname()    \n",
    "IPAddr = socket.gethostbyname(hostname)    \n",
    "jobEndTime = datetime.now()\n",
    "jobTotalTime = jobEndTime-jobStartTime\n",
    "jobTotalSeconds = jobTotalTime.total_seconds()\n",
    "recordsPerSecond = (sliceSize/jobTotalSeconds)\n",
    "millionRecordTime = (((1000000/sliceSize)*jobTotalSeconds)/3600)\n",
    "#Log to a csv\n",
    "with open('geocodeLogs.csv', 'a', newline='') as csvfile:\n",
    "    fieldnames = ['hostname','IPAddr','jobStartTime','jobEndTime', 'jobTotalTime', 'sliceSize','chunkSize','recordsPerMinute','recordsPerHour','millionRecordTime']\n",
    "    writer = csv.DictWriter(csvfile, fieldnames=fieldnames)\n",
    "    #writer.writeheader()\n",
    "    writer.writerow({'hostname':hostname,'IPAddr':IPAddr,'jobStartTime':jobStartTime,'jobEndTime':jobEndTime, 'jobTotalTime':jobTotalTime, 'sliceSize':sliceSize,'chunkSize':chunkSize,'recordsPerMinute':recordsPerSecond*60,'recordsPerHour':recordsPerSecond*3600,'millionRecordTime':millionRecordTime})\n",
    "    print(str(chunkMarker)+\" records geocoded and finished in: \"+str(jobTotalSeconds)+ \" seconds\")"
   ]
  },
  {
   "cell_type": "code",
   "execution_count": null,
   "metadata": {},
   "outputs": [],
   "source": []
  },
  {
   "cell_type": "code",
   "execution_count": null,
   "metadata": {},
   "outputs": [],
   "source": []
  }
 ],
 "metadata": {
  "kernelspec": {
   "display_name": "Python 3",
   "language": "python",
   "name": "python3"
  },
  "language_info": {
   "codemirror_mode": {
    "name": "ipython",
    "version": 3
   },
   "file_extension": ".py",
   "mimetype": "text/x-python",
   "name": "python",
   "nbconvert_exporter": "python",
   "pygments_lexer": "ipython3",
   "version": "3.7.3"
  }
 },
 "nbformat": 4,
 "nbformat_minor": 2
}
